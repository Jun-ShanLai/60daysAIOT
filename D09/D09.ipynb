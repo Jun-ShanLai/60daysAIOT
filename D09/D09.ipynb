{
 "cells": [
  {
   "cell_type": "markdown",
   "metadata": {},
   "source": [
    "##  *請實際設定 docker file 並 push 到 Docker HUB 上\n",
    "##  *上傳 docker hub 的 截圖"
   ]
  },
  {
   "cell_type": "markdown",
   "metadata": {},
   "source": [
    "## 前置作業\n",
    "1.首先先下載docker desktop並安裝\n",
    "\n",
    "2.然後在Docker HUB註冊\n",
    "\n",
    "3.在docker desktop上登入自己的Docker HUB帳號\n",
    "\n",
    "4.(windows使用者)開啟命令提示字元(CMD)"
   ]
  },
  {
   "cell_type": "markdown",
   "metadata": {},
   "source": [
    "## 常用 Docker command\n",
    "\n",
    "\n",
    "查詢版本資訊   \n",
    "\n",
    "指令:docker version\n",
    "\n",
    "![D09_01.png](../img/D09_01.png)"
   ]
  },
  {
   "cell_type": "markdown",
   "metadata": {},
   "source": [
    "docker image 的管理  \n",
    "\n",
    "指令:docker image ls \n",
    "\n",
    "![D09_02.png](../img/D09_02.png)"
   ]
  },
  {
   "cell_type": "markdown",
   "metadata": {},
   "source": [
    "從 remote repository (docker hub) 下載 hello-world的 image \n",
    " \n",
    "\n",
    "指令:docker pull hello-world\n",
    "\n",
    "\n",
    "![D09_03.png](../img/D09_03.png)"
   ]
  },
  {
   "cell_type": "markdown",
   "metadata": {},
   "source": [
    "移除 hello-world的 image\n",
    "\n",
    "\n",
    "指令:docker image rm hello-world"
   ]
  },
  {
   "cell_type": "markdown",
   "metadata": {},
   "source": [
    " ## Container 的啟動與停止\n",
    " \n",
    " 從 Docker Hub 取得 hello-world 的 image，那我們來執行 hello-world 這個 image。\n",
    " \n",
    " 指令: docker run hello-world\n",
    " \n",
    " \n",
    " ![D09_04.png](../img/D09_04.png)"
   ]
  },
  {
   "cell_type": "markdown",
   "metadata": {},
   "source": [
    "## docker file 並 push 到 Docker HUB "
   ]
  },
  {
   "cell_type": "markdown",
   "metadata": {},
   "source": [
    "\n",
    "![D09_06.png](../img/D09_06.png)\n",
    "\n",
    "\n",
    "-------\n",
    "\n",
    "![D09_05.png](../img/D09_05.png)\n",
    "\n"
   ]
  },
  {
   "cell_type": "code",
   "execution_count": null,
   "metadata": {},
   "outputs": [],
   "source": []
  }
 ],
 "metadata": {
  "kernelspec": {
   "display_name": "Python 3",
   "language": "python",
   "name": "python3"
  },
  "language_info": {
   "codemirror_mode": {
    "name": "ipython",
    "version": 3
   },
   "file_extension": ".py",
   "mimetype": "text/x-python",
   "name": "python",
   "nbconvert_exporter": "python",
   "pygments_lexer": "ipython3",
   "version": "3.6.7"
  }
 },
 "nbformat": 4,
 "nbformat_minor": 2
}
