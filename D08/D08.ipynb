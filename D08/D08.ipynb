{
 "cells": [
  {
   "cell_type": "markdown",
   "metadata": {},
   "source": [
    "# 作業： 使用 Python 操作 MongoDB"
   ]
  },
  {
   "cell_type": "markdown",
   "metadata": {},
   "source": [
    "# [作業目標]\n",
    "* 能夠使用 Python 對 MongoDB 的資料進行增刪改查操作。\n",
    "* 使用 Robo 3T 工具查看資料。"
   ]
  },
  {
   "cell_type": "markdown",
   "metadata": {},
   "source": [
    "# [作業重點]\n",
    "* 執行程式前，MongoDB Server 記得要先開啟。\n",
    "* 若 DB、Collection 原本不存在，則直到有第一筆資料 insert 進去，才會真的建立 DB 及 Collection"
   ]
  },
  {
   "cell_type": "markdown",
   "metadata": {},
   "source": [
    "# 作業1\n",
    "* 建立 DB 及 Collection (名稱自訂)，使用 Python 取得連線。"
   ]
  },
  {
   "cell_type": "markdown",
   "metadata": {},
   "source": [
    "### 安裝pymongo\n",
    "![D08_01.png](../img/D08_01.png)"
   ]
  },
  {
   "cell_type": "code",
   "execution_count": 3,
   "metadata": {},
   "outputs": [
    {
     "name": "stdout",
     "output_type": "stream",
     "text": [
      "[ObjectId('5fdbfd24015985466d3a3a6b'), ObjectId('5fdbfd24015985466d3a3a6c'), ObjectId('5fdbfd24015985466d3a3a6d')]\n"
     ]
    }
   ],
   "source": [
    "from pymongo import MongoClient\n",
    "client = MongoClient(host='127.0.0.1', port=27017)\n",
    "db = client[\"newdb\"]\n",
    "collections = db[\"test\"]\n",
    "mydata_list = [{\"name\" : \"Kevin\", \"email\" : \"test@abc.com\", \"phone\": \"0912345678\", \"age\" : \"27\"}, {\"name\" : \"Ella\", \"email\" : \"aaa@abc.com\", \"phone\": \"0911223344\", \"age\" : \"30\"}, {\"name\" : \"Amber\", \"email\" : \"bbb@abc.com\", \"phone\": \"0987654321\", \"age\" : \"36\"}]\n",
    "result = collections.insert_many(mydata_list)\n",
    "print(result.inserted_ids)"
   ]
  },
  {
   "cell_type": "markdown",
   "metadata": {},
   "source": [
    "### 用Robo 3T查看資料是否有新增\n",
    "![D08_02.png](../img/D08_02.png)"
   ]
  },
  {
   "cell_type": "markdown",
   "metadata": {},
   "source": [
    "# 作業2\n",
    "* 使用 Python 操作 Mongo 中的資料。"
   ]
  },
  {
   "cell_type": "code",
   "execution_count": 5,
   "metadata": {},
   "outputs": [
    {
     "data": {
      "text/plain": [
       "<pymongo.results.DeleteResult at 0x2d3150d9c08>"
      ]
     },
     "execution_count": 5,
     "metadata": {},
     "output_type": "execute_result"
    }
   ],
   "source": [
    "## 嘗試使用 python刪除Mongo DB中的資料\n",
    "collections.delete_one({\"name\" : \"Amber\"})"
   ]
  },
  {
   "cell_type": "markdown",
   "metadata": {},
   "source": [
    "### 用Robo 3T查看資料是否被刪除\n",
    "![D08_03.png](../img/D08_03.png)"
   ]
  },
  {
   "cell_type": "code",
   "execution_count": 7,
   "metadata": {},
   "outputs": [
    {
     "data": {
      "text/plain": [
       "<pymongo.results.UpdateResult at 0x2d3150d9848>"
      ]
     },
     "execution_count": 7,
     "metadata": {},
     "output_type": "execute_result"
    }
   ],
   "source": [
    "## 嘗試篩選出 Kevin 將其資料改成Cathy\n",
    "filter_ = {\"name\" : \"Kevin\"}\n",
    "update_ = {\"$set\": {\"name\" : \"Cathy\"}}   \n",
    "collections.update_one(filter_, update_)"
   ]
  },
  {
   "cell_type": "markdown",
   "metadata": {},
   "source": [
    "### 用Robo 3T查看資料是否被修改\n",
    "![D08_04.png](../img/D08_04.png)"
   ]
  },
  {
   "cell_type": "code",
   "execution_count": 8,
   "metadata": {},
   "outputs": [
    {
     "name": "stdout",
     "output_type": "stream",
     "text": [
      "{'_id': ObjectId('5fdbfd24015985466d3a3a6b'), 'name': 'Cathy', 'email': 'test@abc.com', 'phone': '0912345678', 'age': '27'}\n",
      "{'_id': ObjectId('5fdbfd24015985466d3a3a6c'), 'name': 'Ella', 'email': 'aaa@abc.com', 'phone': '0911223344', 'age': '30'}\n"
     ]
    }
   ],
   "source": [
    "## 用python 查詢\n",
    "\n",
    "result = collections.find()\n",
    "for i in result:\n",
    "    print(i)"
   ]
  },
  {
   "cell_type": "code",
   "execution_count": null,
   "metadata": {},
   "outputs": [],
   "source": []
  }
 ],
 "metadata": {
  "kernelspec": {
   "display_name": "Python 3",
   "language": "python",
   "name": "python3"
  },
  "language_info": {
   "codemirror_mode": {
    "name": "ipython",
    "version": 3
   },
   "file_extension": ".py",
   "mimetype": "text/x-python",
   "name": "python",
   "nbconvert_exporter": "python",
   "pygments_lexer": "ipython3",
   "version": "3.6.7"
  }
 },
 "nbformat": 4,
 "nbformat_minor": 4
}
