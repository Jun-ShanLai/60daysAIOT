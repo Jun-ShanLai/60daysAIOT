{
 "cells": [
  {
   "cell_type": "markdown",
   "metadata": {},
   "source": [
    "作業1 : 練習使用一個民生物聯網 API，例如空氣、地震等感測站所回傳的紀錄資料。\n",
    "           參考資料網址： https://ci.taiwan.gov.tw/dsp/environmental.aspx"
   ]
  },
  {
   "cell_type": "code",
   "execution_count": 1,
   "metadata": {},
   "outputs": [
    {
     "name": "stdout",
     "output_type": "stream",
     "text": [
      "{'value': [{'name': 'Datastreams',\n",
      "            'url': 'https://sta.ci.taiwan.gov.tw/STA_AirQuality_EPAIoT/v1.0/Datastreams'},\n",
      "           {'name': 'MultiDatastreams',\n",
      "            'url': 'https://sta.ci.taiwan.gov.tw/STA_AirQuality_EPAIoT/v1.0/MultiDatastreams'},\n",
      "           {'name': 'FeaturesOfInterest',\n",
      "            'url': 'https://sta.ci.taiwan.gov.tw/STA_AirQuality_EPAIoT/v1.0/FeaturesOfInterest'},\n",
      "           {'name': 'HistoricalLocations',\n",
      "            'url': 'https://sta.ci.taiwan.gov.tw/STA_AirQuality_EPAIoT/v1.0/HistoricalLocations'},\n",
      "           {'name': 'Locations',\n",
      "            'url': 'https://sta.ci.taiwan.gov.tw/STA_AirQuality_EPAIoT/v1.0/Locations'},\n",
      "           {'name': 'Observations',\n",
      "            'url': 'https://sta.ci.taiwan.gov.tw/STA_AirQuality_EPAIoT/v1.0/Observations'},\n",
      "           {'name': 'ObservedProperties',\n",
      "            'url': 'https://sta.ci.taiwan.gov.tw/STA_AirQuality_EPAIoT/v1.0/ObservedProperties'},\n",
      "           {'name': 'Sensors',\n",
      "            'url': 'https://sta.ci.taiwan.gov.tw/STA_AirQuality_EPAIoT/v1.0/Sensors'},\n",
      "           {'name': 'Things',\n",
      "            'url': 'https://sta.ci.taiwan.gov.tw/STA_AirQuality_EPAIoT/v1.0/Things'}]}\n"
     ]
    }
   ],
   "source": [
    "import requests\n",
    "import pprint\n",
    "\n",
    "## API網址 \n",
    "\n",
    "url= \"https://sta.ci.taiwan.gov.tw/STA_AirQuality_EPAIoT/v1.0/\"\n",
    "\n",
    "## 對server進行傳送跟回傳\n",
    "response = requests.get(url)\n",
    "# json\n",
    "result = response.json()\n",
    "\n",
    "## 用 pprint美化輸出結果\n",
    "pprint.pprint(result)"
   ]
  },
  {
   "cell_type": "code",
   "execution_count": null,
   "metadata": {},
   "outputs": [],
   "source": []
  },
  {
   "cell_type": "markdown",
   "metadata": {},
   "source": [
    "作業2 : 練習操作 OGC SensorThings API，將環保局測站位置的資料抓取下來，並且觀察下載資料的內容。\n",
    "           參考網址：https://sta.ci.taiwan.gov.tw/STA_AirQuality_EPAIoT/v1.0/Things"
   ]
  },
  {
   "cell_type": "code",
   "execution_count": 2,
   "metadata": {},
   "outputs": [
    {
     "name": "stdout",
     "output_type": "stream",
     "text": [
      "{'_id': '8949336493', 'name': 'Relative humidity', 'city': '桃園市', 'township': '蘆竹區', 'locationId': 'TW050204A0504769', 'iso8601_UTC_0': '2020-12-16T05:53:33.000Z', 'UTC_0': '2020-12-16 05:53:33+00:00', 'UTC_8': '2020-12-16 13:53:33+08:00', 'result': 89.11, 'unitOfMeasurement': '%'}\n"
     ]
    }
   ],
   "source": [
    "\n",
    "import pytz, dateutil.parser\n",
    "import requests\n",
    "\n",
    "\n",
    "\n",
    "\n",
    "def API_data():\n",
    "    API_URL = \"https://sta.ci.taiwan.gov.tw/STA_AirQuality_EPAIoT/v1.0/Datastreams?$expand=Thing,Observations($orderby=phenomenonTime%20desc;$top=1)&$filter=name%20eq%20%27Relative%20humidity%27&$count=true\"\n",
    "    \n",
    "    total = requests.get(API_URL).json()\n",
    "    data = total['value']\n",
    "    first_batch = []\n",
    "    a=0\n",
    "    for item in data:\n",
    "        dic = {}\n",
    "        dic['_id'] = item['Thing']['properties']['stationID']\n",
    "        dic['name'] = item['name']\n",
    "        dic['city'] = item['Thing']['properties']['city']\n",
    "        dic['township'] = item['Thing']['properties']['township']\n",
    "        #dic['areaDescription'] = item['Thing']['properties']['areaDescription'] ##沒有每一筆資料都有這個欄位\n",
    "        dic['locationId'] = item['Thing']['properties'][\"locationId\"]\n",
    "        dic['iso8601_UTC_0'] = item['Observations'][0]['phenomenonTime']\n",
    "        UTC_0 = dateutil.parser.parse(dic['iso8601_UTC_0'])\n",
    "        dic['UTC_0'] = str(UTC_0)\n",
    "        UTC_8 = UTC_0.astimezone(pytz.timezone(\"Asia/Taipei\"))\n",
    "        dic['UTC_8'] = str(UTC_8)\n",
    "        dic['result'] = item['Observations'][0]['result']\n",
    "        dic['unitOfMeasurement'] = item['unitOfMeasurement']['symbol']\n",
    "        first_batch.append(dic)\n",
    "    return first_batch\n",
    " \n",
    "\n",
    "first_batch = API_data()\n",
    "print(first_batch[0])"
   ]
  },
  {
   "cell_type": "code",
   "execution_count": 3,
   "metadata": {},
   "outputs": [
    {
     "data": {
      "text/plain": [
       "'\\n### 僅是用來測試如何爬蟲\\nimport requests\\n\\nr = requests.get(\"https://opendata.epa.gov.tw/ws/Data/AQI/?$format=json\", verify=False)\\nlist_of_dicts = r.json()\\nprint(type(r))\\nprint(type(list_of_dicts))\\nfor i in list_of_dicts:\\n    print(i[\"County\"], i[\"SiteName\"], i[\"PM2.5\"])\\n\\n\\n'"
      ]
     },
     "execution_count": 3,
     "metadata": {},
     "output_type": "execute_result"
    }
   ],
   "source": [
    "'''\n",
    "### 僅是用來測試如何爬蟲\n",
    "import requests\n",
    "\n",
    "r = requests.get(\"https://opendata.epa.gov.tw/ws/Data/AQI/?$format=json\", verify=False)\n",
    "list_of_dicts = r.json()\n",
    "print(type(r))\n",
    "print(type(list_of_dicts))\n",
    "for i in list_of_dicts:\n",
    "    print(i[\"County\"], i[\"SiteName\"], i[\"PM2.5\"])\n",
    "\n",
    "\n",
    "'''"
   ]
  },
  {
   "cell_type": "code",
   "execution_count": null,
   "metadata": {},
   "outputs": [],
   "source": []
  }
 ],
 "metadata": {
  "kernelspec": {
   "display_name": "Python 3",
   "language": "python",
   "name": "python3"
  },
  "language_info": {
   "codemirror_mode": {
    "name": "ipython",
    "version": 3
   },
   "file_extension": ".py",
   "mimetype": "text/x-python",
   "name": "python",
   "nbconvert_exporter": "python",
   "pygments_lexer": "ipython3",
   "version": "3.6.7"
  }
 },
 "nbformat": 4,
 "nbformat_minor": 2
}
